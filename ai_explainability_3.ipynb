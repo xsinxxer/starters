{
  "metadata": {
    "kernelspec": {
      "display_name": "Python 3",
      "name": "python3"
    },
    "language_info": {
      "pygments_lexer": "ipython3",
      "nbconvert_exporter": "python",
      "version": "3.6.4",
      "file_extension": ".py",
      "codemirror_mode": {
        "name": "ipython",
        "version": 3
      },
      "name": "python",
      "mimetype": "text/x-python"
    },
    "kaggle": {
      "accelerator": "none",
      "dataSources": [],
      "isInternetEnabled": true,
      "language": "python",
      "sourceType": "notebook",
      "isGpuEnabled": false
    },
    "colab": {
      "name": "ai_explainability_3",
      "provenance": [],
      "include_colab_link": true
    }
  },
  "nbformat_minor": 0,
  "nbformat": 4,
  "cells": [
    {
      "cell_type": "markdown",
      "metadata": {
        "id": "view-in-github",
        "colab_type": "text"
      },
      "source": [
        "<a href=\"https://colab.research.google.com/github/xsinxxer/starters/blob/main/ai_explainability_3.ipynb\" target=\"_parent\"><img src=\"https://colab.research.google.com/assets/colab-badge.svg\" alt=\"Open In Colab\"/></a>"
      ]
    },
    {
      "cell_type": "code",
      "source": [
        "# This Python 3 environment comes with many helpful analytics libraries installed\n",
        "# It is defined by the kaggle/python Docker image: https://github.com/kaggle/docker-python\n",
        "# For example, here's several helpful packages to load\n",
        "\n",
        "import numpy as np # linear algebra\n",
        "import pandas as pd # data processing, CSV file I/O (e.g. pd.read_csv)\n",
        "\n",
        "# Input data files are available in the read-only \"../input/\" directory\n",
        "# For example, running this (by clicking run or pressing Shift+Enter) will list all files under the input directory\n",
        "\n",
        "import os\n",
        "for dirname, _, filenames in os.walk('/kaggle/input'):\n",
        "    for filename in filenames:\n",
        "        print(os.path.join(dirname, filename))\n",
        "\n",
        "# You can write up to 20GB to the current directory (/kaggle/working/) that gets preserved as output when you create a version using \"Save & Run All\"\n",
        "# You can also write temporary files to /kaggle/temp/, but they won't be saved outside of the current session"
      ],
      "metadata": {
        "_uuid": "8f2839f25d086af736a60e9eeb907d3b93b6e0e5",
        "_cell_guid": "b1076dfc-b9ad-4769-8c92-a6c4dae69d19",
        "trusted": true,
        "id": "6CnYLt12zmIg"
      },
      "execution_count": 1,
      "outputs": []
    },
    {
      "cell_type": "code",
      "source": [
        "import tensorflow as tf\n",
        "from tensorflow.keras import datasets, layers, models, regularizers\n",
        "import matplotlib.pyplot as plt\n",
        "\n",
        "# Load the CIFAR-10 dataset\n",
        "(x_train, y_train), (x_test, y_test) = datasets.cifar10.load_data()\n",
        "\n",
        "# Normalize the images to the range [0, 1]\n",
        "x_train, x_test = x_train / 255.0, x_test / 255.0\n"
      ],
      "metadata": {
        "id": "Z4_AXHuIzrwy"
      },
      "execution_count": 21,
      "outputs": []
    },
    {
      "cell_type": "code",
      "source": [
        "l1_penalty = 0.0001\n",
        "l2_penalty = 0.0001\n",
        "model = models.Sequential([\n",
        "    layers.Conv2D(32, (3, 3), activation='relu', input_shape=(32, 32, 3),\n",
        "                  kernel_regularizer=regularizers.l1_l2(l1=l1_penalty, l2=l2_penalty)),\n",
        "    layers.MaxPooling2D((2, 2)),\n",
        "    layers.Dropout(0.25),\n",
        "\n",
        "    layers.Conv2D(64, (3, 3), activation='relu',\n",
        "                  kernel_regularizer=regularizers.l1_l2(l1=l1_penalty, l2=l2_penalty)),\n",
        "    layers.MaxPooling2D((2, 2)),\n",
        "    layers.Dropout(0.25),\n",
        "\n",
        "    layers.Conv2D(64, (3, 3), activation='relu',\n",
        "                  kernel_regularizer=regularizers.l1_l2(l1=l1_penalty, l2=l2_penalty)),\n",
        "    layers.Dropout(0.25),\n",
        "    layers.Flatten(),\n",
        "\n",
        "    layers.Dense(128, activation='relu',\n",
        "                 kernel_regularizer=regularizers.l1_l2(l1=l1_penalty, l2=l2_penalty)),\n",
        "    layers.Dropout(0.5),\n",
        "\n",
        "    layers.Dense(64, activation='relu',\n",
        "                 kernel_regularizer=regularizers.l1_l2(l1=l1_penalty, l2=l2_penalty)),\n",
        "    layers.Dropout(0.5),\n",
        "\n",
        "    layers.Dense(10, activation='softmax',\n",
        "                 kernel_regularizer=regularizers.l1_l2(l1=l1_penalty, l2=l2_penalty))\n",
        "])\n",
        "model.compile(optimizer='adam',\n",
        "              loss='sparse_categorical_crossentropy',\n",
        "              metrics=['accuracy'])\n",
        "history = model.fit(x_train, y_train, epochs=10,\n",
        "                    validation_data=(x_test, y_test))\n",
        "def compute_saliency_map(model, img, label):\n",
        "    img_tensor = tf.convert_to_tensor(img.reshape(1, 32, 32, 3), dtype=tf.float32)\n",
        "    with tf.GradientTape() as tape:\n",
        "        tape.watch(img_tensor)\n",
        "        prediction = model(img_tensor)\n",
        "        loss = prediction[0, label]\n",
        "    gradient = tape.gradient(loss, img_tensor)\n",
        "    gradient = tf.abs(gradient)\n",
        "    gradient = tf.reduce_max(gradient, axis=-1)[0]  # Max over color channels\n",
        "    return gradient.numpy()"
      ],
      "metadata": {
        "id": "1HvTmRsm2kYP",
        "outputId": "29689256-f9a5-4d0c-d4a0-2bc0558e1231",
        "colab": {
          "base_uri": "https://localhost:8080/",
          "height": 813
        }
      },
      "execution_count": 22,
      "outputs": [
        {
          "output_type": "stream",
          "name": "stdout",
          "text": [
            "Epoch 1/10\n",
            "1563/1563 [==============================] - 14s 8ms/step - loss: 2.1182 - accuracy: 0.2649 - val_loss: 1.7694 - val_accuracy: 0.4006\n",
            "Epoch 2/10\n",
            "1563/1563 [==============================] - 10s 7ms/step - loss: 1.8118 - accuracy: 0.3944 - val_loss: 1.6009 - val_accuracy: 0.4865\n",
            "Epoch 3/10\n",
            "1563/1563 [==============================] - 10s 6ms/step - loss: 1.7240 - accuracy: 0.4448 - val_loss: 1.5963 - val_accuracy: 0.4975\n",
            "Epoch 4/10\n",
            "1563/1563 [==============================] - 10s 6ms/step - loss: 1.6693 - accuracy: 0.4760 - val_loss: 1.4898 - val_accuracy: 0.5359\n",
            "Epoch 5/10\n",
            "1563/1563 [==============================] - 9s 6ms/step - loss: 1.6385 - accuracy: 0.4944 - val_loss: 1.4762 - val_accuracy: 0.5612\n",
            "Epoch 6/10\n",
            "1563/1563 [==============================] - 10s 6ms/step - loss: 1.6036 - accuracy: 0.5095 - val_loss: 1.4322 - val_accuracy: 0.5703\n",
            "Epoch 7/10\n",
            "1563/1563 [==============================] - 10s 6ms/step - loss: 1.5874 - accuracy: 0.5187 - val_loss: 1.4764 - val_accuracy: 0.5649\n",
            "Epoch 8/10\n",
            "1563/1563 [==============================] - 10s 6ms/step - loss: 1.5726 - accuracy: 0.5286 - val_loss: 1.4251 - val_accuracy: 0.5891\n",
            "Epoch 9/10\n",
            "1563/1563 [==============================] - 10s 6ms/step - loss: 1.5606 - accuracy: 0.5326 - val_loss: 1.3807 - val_accuracy: 0.5842\n",
            "Epoch 10/10\n",
            "1563/1563 [==============================] - 10s 7ms/step - loss: 1.5507 - accuracy: 0.5409 - val_loss: 1.3529 - val_accuracy: 0.6105\n",
            "313/313 - 1s - loss: 1.3529 - accuracy: 0.6105 - 759ms/epoch - 2ms/step\n",
            "Test accuracy: 0.6104999780654907\n"
          ]
        },
        {
          "output_type": "display_data",
          "data": {
            "text/plain": [
              "<Figure size 1000x500 with 2 Axes>"
            ],
            "image/png": "[encoded data removed]"
          },
          "metadata": {}
        }
      ]
    },
    {
      "cell_type": "markdown",
      "source": [
        "# Smoothgrad will help!!!!\n",
        "\n",
        "#Always try to break down why not working,never give up as you would have!!!!!!!!"
      ],
      "metadata": {
        "id": "N0ZRc5uD446F"
      }
    },
    {
      "cell_type": "code",
      "source": [
        "import tensorflow as tf\n",
        "import numpy as np\n",
        "import matplotlib.pyplot as plt\n",
        "\n",
        "def compute_smoothgrad_saliency_map(model, img, label, num_samples=50, noise_level=0.1):\n",
        "    img_tensor = tf.convert_to_tensor(img.reshape(1, 32, 32, 3), dtype=tf.float32)\n",
        "    saliency_maps = []\n",
        "    for i in range(num_samples):\n",
        "        noise = tf.random.normal(shape=img_tensor.shape, mean=0.0, stddev=noise_level)\n",
        "        noisy_img = img_tensor + noise\n",
        "        with tf.GradientTape() as tape:\n",
        "            tape.watch(noisy_img)\n",
        "            prediction = model(noisy_img)\n",
        "            loss = prediction[0, label]\n",
        "        gradient = tape.gradient(loss, noisy_img)\n",
        "        gradient = tf.abs(gradient)\n",
        "        gradient = tf.reduce_max(gradient, axis=-1)[0]\n",
        "        saliency_maps.append(gradient.numpy())\n",
        "    saliency_map = np.mean(saliency_maps, axis=0)\n",
        "    return saliency_map\n",
        "sample_image = x_train[2]\n",
        "sample_label = y_test[0][0]\n",
        "smoothgrad_saliency_map = compute_smoothgrad_saliency_map(model, sample_image, sample_label)\n",
        "plt.figure(figsize=(10, 5))\n",
        "plt.subplot(1, 2, 1)\n",
        "plt.title(f\"Original Image (Label: {sample_label})\")\n",
        "plt.imshow(sample_image)\n",
        "plt.axis('off')\n",
        "plt.subplot(1, 2, 2)\n",
        "plt.title(\"SmoothGrad Saliency Map\")\n",
        "plt.imshow(smoothgrad_saliency_map, cmap='hot')\n",
        "plt.axis('off')\n",
        "plt.show()\n"
      ],
      "metadata": {
        "id": "Hfu2MZVP3KEy",
        "outputId": "391ca8a6-e9e4-4278-ef01-551eb7e58da6",
        "colab": {
          "base_uri": "https://localhost:8080/",
          "height": 411
        }
      },
      "execution_count": 31,
      "outputs": [
        {
          "output_type": "display_data",
          "data": {
            "text/plain": [
              "<Figure size 1000x500 with 2 Axes>"
            ],
            "image/png": "[encoded data removed]"
          },
          "metadata": {}
        }
      ]
    },
    {
      "cell_type": "markdown",
      "source": [
        "# l1,l2 really helped huh"
      ],
      "metadata": {
        "id": "T-GhqcJ35Dyb"
      }
    },
    {
      "cell_type": "markdown",
      "source": [
        "# Lets see more resolution images with models; new notebook"
      ],
      "metadata": {
        "id": "UulJ20Pe8VYG"
      }
    }
  ]
}